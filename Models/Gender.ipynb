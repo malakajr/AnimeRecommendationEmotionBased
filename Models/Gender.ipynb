{
 "cells": [
  {
   "cell_type": "code",
   "execution_count": 1,
   "id": "f02de456",
   "metadata": {},
   "outputs": [],
   "source": [
    "import pandas as pd\n",
    "import numpy as np\n",
    "import os\n",
    "import matplotlib.pyplot as plt\n",
    "import cv2\n",
    "from keras.models import Sequential,load_model,Model\n",
    "from keras.layers import Conv2D,MaxPool2D,Dense,Dropout,BatchNormalization,Flatten,Input\n",
    "from sklearn.model_selection import train_test_split"
   ]
  },
  {
   "cell_type": "code",
   "execution_count": 2,
   "id": "8f165dd3",
   "metadata": {},
   "outputs": [],
   "source": [
    "path = \"data/UTKFace\"\n",
    "images = []\n",
    "gender = []\n",
    "for img in os.listdir(path):\n",
    "  genders = img.split(\"_\")[1]\n",
    "  img = cv2.imread(str(path)+\"/\"+str(img))\n",
    "  img = cv2.cvtColor(img,cv2.COLOR_BGR2RGB)\n",
    "  images.append(np.array(img))\n",
    "  gender.append(np.array(genders))"
   ]
  },
  {
   "cell_type": "code",
   "execution_count": 3,
   "id": "13b4b45b",
   "metadata": {},
   "outputs": [],
   "source": [
    "images = np.array(images)   \n",
    "gender = np.array(gender,np.uint64)"
   ]
  },
  {
   "cell_type": "code",
   "execution_count": 4,
   "id": "d0514528",
   "metadata": {},
   "outputs": [],
   "source": [
    "x_train_gender, x_test_gender, y_train_gender, y_test_gender = train_test_split(images, gender, random_state=42)"
   ]
  },
  {
   "cell_type": "code",
   "execution_count": 5,
   "id": "3f5d5779",
   "metadata": {},
   "outputs": [
    {
     "name": "stdout",
     "output_type": "stream",
     "text": [
      "Epoch 1/50\n",
      "556/556 [==============================] - 597s 1s/step - loss: 0.8898 - accuracy: 0.7037 - val_loss: 0.4490 - val_accuracy: 0.7943\n",
      "Epoch 2/50\n",
      "556/556 [==============================] - 594s 1s/step - loss: 0.4330 - accuracy: 0.8037 - val_loss: 0.4372 - val_accuracy: 0.7943\n",
      "Epoch 3/50\n",
      "556/556 [==============================] - 602s 1s/step - loss: 0.3931 - accuracy: 0.8235 - val_loss: 0.4190 - val_accuracy: 0.7969\n",
      "Epoch 4/50\n",
      "556/556 [==============================] - 602s 1s/step - loss: 0.3519 - accuracy: 0.8441 - val_loss: 0.3792 - val_accuracy: 0.8164\n",
      "Epoch 5/50\n",
      "556/556 [==============================] - 603s 1s/step - loss: 0.3408 - accuracy: 0.8443 - val_loss: 0.3813 - val_accuracy: 0.8249\n",
      "Epoch 6/50\n",
      "556/556 [==============================] - 602s 1s/step - loss: 0.3238 - accuracy: 0.8541 - val_loss: 0.3321 - val_accuracy: 0.8473\n",
      "Epoch 7/50\n",
      "556/556 [==============================] - 604s 1s/step - loss: 0.3124 - accuracy: 0.8604 - val_loss: 0.3014 - val_accuracy: 0.8623\n",
      "Epoch 8/50\n",
      "556/556 [==============================] - 609s 1s/step - loss: 0.3020 - accuracy: 0.8682 - val_loss: 0.3430 - val_accuracy: 0.8537\n",
      "Epoch 9/50\n",
      "556/556 [==============================] - 630s 1s/step - loss: 0.2985 - accuracy: 0.8695 - val_loss: 0.3271 - val_accuracy: 0.8542\n",
      "Epoch 10/50\n",
      "556/556 [==============================] - 643s 1s/step - loss: 0.2817 - accuracy: 0.8735 - val_loss: 0.3214 - val_accuracy: 0.8448\n",
      "Epoch 11/50\n",
      "556/556 [==============================] - 643s 1s/step - loss: 0.2797 - accuracy: 0.8749 - val_loss: 0.3189 - val_accuracy: 0.8583\n",
      "Epoch 12/50\n",
      "556/556 [==============================] - 642s 1s/step - loss: 0.2671 - accuracy: 0.8838 - val_loss: 0.2938 - val_accuracy: 0.8652\n",
      "Epoch 13/50\n",
      "556/556 [==============================] - 640s 1s/step - loss: 0.2651 - accuracy: 0.8823 - val_loss: 0.3061 - val_accuracy: 0.8581\n",
      "Epoch 14/50\n",
      "556/556 [==============================] - 639s 1s/step - loss: 0.2567 - accuracy: 0.8877 - val_loss: 0.2970 - val_accuracy: 0.8618\n",
      "Epoch 15/50\n",
      "556/556 [==============================] - 637s 1s/step - loss: 0.2525 - accuracy: 0.8899 - val_loss: 0.4560 - val_accuracy: 0.8569\n",
      "Epoch 16/50\n",
      "556/556 [==============================] - 639s 1s/step - loss: 0.2545 - accuracy: 0.8898 - val_loss: 0.2866 - val_accuracy: 0.8699\n",
      "Epoch 17/50\n",
      "556/556 [==============================] - 639s 1s/step - loss: 0.2396 - accuracy: 0.8942 - val_loss: 0.3038 - val_accuracy: 0.8684\n",
      "Epoch 18/50\n",
      "556/556 [==============================] - 638s 1s/step - loss: 0.2399 - accuracy: 0.8958 - val_loss: 0.2920 - val_accuracy: 0.8696\n",
      "Epoch 19/50\n",
      "556/556 [==============================] - 637s 1s/step - loss: 0.2364 - accuracy: 0.8956 - val_loss: 0.2729 - val_accuracy: 0.8773\n",
      "Epoch 20/50\n",
      "556/556 [==============================] - 637s 1s/step - loss: 0.2279 - accuracy: 0.8997 - val_loss: 0.2859 - val_accuracy: 0.8741\n",
      "Epoch 21/50\n",
      "556/556 [==============================] - 638s 1s/step - loss: 0.2335 - accuracy: 0.8972 - val_loss: 0.2785 - val_accuracy: 0.8797\n",
      "Epoch 22/50\n",
      "556/556 [==============================] - 652s 1s/step - loss: 0.2159 - accuracy: 0.9030 - val_loss: 0.2913 - val_accuracy: 0.8799\n",
      "Epoch 23/50\n",
      "556/556 [==============================] - 597s 1s/step - loss: 0.2158 - accuracy: 0.9046 - val_loss: 0.2983 - val_accuracy: 0.8790\n",
      "Epoch 24/50\n",
      "556/556 [==============================] - 596s 1s/step - loss: 0.2182 - accuracy: 0.9038 - val_loss: 0.3116 - val_accuracy: 0.8789\n",
      "Epoch 25/50\n",
      "556/556 [==============================] - 598s 1s/step - loss: 0.2189 - accuracy: 0.9035 - val_loss: 0.2796 - val_accuracy: 0.8775\n",
      "Epoch 26/50\n",
      "556/556 [==============================] - 598s 1s/step - loss: 0.2031 - accuracy: 0.9114 - val_loss: 0.3457 - val_accuracy: 0.8529\n",
      "Epoch 27/50\n",
      "556/556 [==============================] - 665s 1s/step - loss: 0.1992 - accuracy: 0.9114 - val_loss: 0.2880 - val_accuracy: 0.8846\n",
      "Epoch 28/50\n",
      "556/556 [==============================] - 601s 1s/step - loss: 0.1893 - accuracy: 0.9165 - val_loss: 0.2880 - val_accuracy: 0.8795\n",
      "Epoch 29/50\n",
      "556/556 [==============================] - 600s 1s/step - loss: 0.1872 - accuracy: 0.9173 - val_loss: 0.3170 - val_accuracy: 0.8834\n",
      "Epoch 30/50\n",
      "556/556 [==============================] - 599s 1s/step - loss: 0.2012 - accuracy: 0.9145 - val_loss: 0.3000 - val_accuracy: 0.8751\n",
      "Epoch 31/50\n",
      "556/556 [==============================] - 599s 1s/step - loss: 0.1959 - accuracy: 0.9151 - val_loss: 0.3007 - val_accuracy: 0.8807\n",
      "Epoch 32/50\n",
      "556/556 [==============================] - 598s 1s/step - loss: 0.1866 - accuracy: 0.9160 - val_loss: 0.2933 - val_accuracy: 0.8897\n",
      "Epoch 33/50\n",
      "556/556 [==============================] - 600s 1s/step - loss: 0.1755 - accuracy: 0.9255 - val_loss: 0.3080 - val_accuracy: 0.8854\n",
      "Epoch 34/50\n",
      "556/556 [==============================] - 600s 1s/step - loss: 0.1745 - accuracy: 0.9263 - val_loss: 0.3040 - val_accuracy: 0.8797\n",
      "Epoch 35/50\n",
      "556/556 [==============================] - 600s 1s/step - loss: 0.1774 - accuracy: 0.9232 - val_loss: 0.3160 - val_accuracy: 0.8802\n",
      "Epoch 36/50\n",
      "556/556 [==============================] - 601s 1s/step - loss: 0.1702 - accuracy: 0.9253 - val_loss: 0.2877 - val_accuracy: 0.8827\n",
      "Epoch 37/50\n",
      "556/556 [==============================] - 600s 1s/step - loss: 0.1667 - accuracy: 0.9279 - val_loss: 0.3203 - val_accuracy: 0.8770\n",
      "Epoch 38/50\n",
      "556/556 [==============================] - 602s 1s/step - loss: 0.1712 - accuracy: 0.9240 - val_loss: 0.3154 - val_accuracy: 0.8802\n",
      "Epoch 39/50\n",
      "556/556 [==============================] - 604s 1s/step - loss: 0.1651 - accuracy: 0.9291 - val_loss: 0.2945 - val_accuracy: 0.8819\n",
      "Epoch 40/50\n",
      "556/556 [==============================] - 604s 1s/step - loss: 0.1628 - accuracy: 0.9299 - val_loss: 0.3535 - val_accuracy: 0.8821\n",
      "Epoch 41/50\n",
      "556/556 [==============================] - 605s 1s/step - loss: 0.1580 - accuracy: 0.9302 - val_loss: 0.3644 - val_accuracy: 0.8836\n",
      "Epoch 42/50\n",
      "556/556 [==============================] - 606s 1s/step - loss: 0.1507 - accuracy: 0.9349 - val_loss: 0.3321 - val_accuracy: 0.8881\n",
      "Epoch 43/50\n",
      "556/556 [==============================] - 607s 1s/step - loss: 0.1533 - accuracy: 0.9345 - val_loss: 0.3737 - val_accuracy: 0.8861\n",
      "Epoch 44/50\n",
      "556/556 [==============================] - 606s 1s/step - loss: 0.1632 - accuracy: 0.9306 - val_loss: 0.3345 - val_accuracy: 0.8758\n",
      "Epoch 45/50\n",
      "556/556 [==============================] - 607s 1s/step - loss: 0.1479 - accuracy: 0.9382 - val_loss: 0.3414 - val_accuracy: 0.8848\n",
      "Epoch 46/50\n",
      "556/556 [==============================] - 606s 1s/step - loss: 0.1483 - accuracy: 0.9368 - val_loss: 0.3378 - val_accuracy: 0.8780\n",
      "Epoch 47/50\n",
      "556/556 [==============================] - 606s 1s/step - loss: 0.1529 - accuracy: 0.9322 - val_loss: 0.3607 - val_accuracy: 0.8794\n",
      "Epoch 48/50\n",
      "556/556 [==============================] - 607s 1s/step - loss: 0.1402 - accuracy: 0.9403 - val_loss: 0.3840 - val_accuracy: 0.8865\n",
      "Epoch 49/50\n",
      "556/556 [==============================] - 607s 1s/step - loss: 0.1389 - accuracy: 0.9404 - val_loss: 0.3672 - val_accuracy: 0.8831\n",
      "Epoch 50/50\n",
      "556/556 [==============================] - 619s 1s/step - loss: 0.1501 - accuracy: 0.9400 - val_loss: 0.4525 - val_accuracy: 0.8740\n"
     ]
    }
   ],
   "source": [
    "gender_model = Sequential()\n",
    "\n",
    "gender_model.add(Conv2D(36, kernel_size=3, activation='relu', input_shape=(200,200,3)))\n",
    "\n",
    "gender_model.add(MaxPool2D(pool_size=3, strides=2))\n",
    "gender_model.add(Conv2D(64, kernel_size=3, activation='relu'))\n",
    "gender_model.add(MaxPool2D(pool_size=3, strides=2))\n",
    "\n",
    "gender_model.add(Conv2D(128, kernel_size=3, activation='relu'))\n",
    "gender_model.add(MaxPool2D(pool_size=3, strides=2))\n",
    "\n",
    "gender_model.add(Conv2D(256, kernel_size=3, activation='relu'))\n",
    "gender_model.add(MaxPool2D(pool_size=3, strides=2))\n",
    "\n",
    "gender_model.add(Conv2D(512, kernel_size=3, activation='relu'))\n",
    "gender_model.add(MaxPool2D(pool_size=3, strides=2))\n",
    "\n",
    "gender_model.add(Flatten())\n",
    "gender_model.add(Dropout(0.2))\n",
    "gender_model.add(Dense(512, activation='relu'))\n",
    "gender_model.add(Dense(1, activation='sigmoid', name='gender'))\n",
    "\n",
    "gender_model.compile(optimizer='adam', loss='binary_crossentropy', metrics=['accuracy'])\n",
    "\n",
    "history_gender = gender_model.fit(x_train_gender, y_train_gender,\n",
    "                        validation_data=(x_test_gender, y_test_gender), epochs=50)\n",
    "\n",
    "gender_model.save('gender_model_50epochs.h5')"
   ]
  },
  {
   "cell_type": "code",
   "execution_count": 8,
   "id": "40f02f43",
   "metadata": {},
   "outputs": [
    {
     "data": {
      "image/png": "[encoded data removed]",
      "text/plain": [
       "<Figure size 432x288 with 1 Axes>"
      ]
     },
     "metadata": {
      "needs_background": "light"
     },
     "output_type": "display_data"
    }
   ],
   "source": [
    "#plot the training and validation accuracy and loss at each epoch\n",
    "history = history_gender\n",
    "loss = history.history['loss']\n",
    "val_loss = history.history['val_loss']\n",
    "epochs = range(1, len(loss) + 1)\n",
    "plt.plot(epochs, loss, 'y', label='Training loss')\n",
    "plt.plot(epochs, val_loss, 'r', label='Validation loss')\n",
    "plt.title('Training and validation loss')\n",
    "plt.xlabel('Epochs')\n",
    "plt.ylabel('Loss')\n",
    "plt.legend()\n",
    "plt.show()"
   ]
  },
  {
   "cell_type": "code",
   "execution_count": 9,
   "id": "601dbc2b",
   "metadata": {},
   "outputs": [],
   "source": [
    "acc = history.history['accuracy']\n",
    "val_acc = history.history['val_accuracy']"
   ]
  },
  {
   "cell_type": "code",
   "execution_count": 10,
   "id": "29aecf0c",
   "metadata": {},
   "outputs": [
    {
     "data": {
      "image/png": "[encoded data removed]",
      "text/plain": [
       "<Figure size 432x288 with 1 Axes>"
      ]
     },
     "metadata": {
      "needs_background": "light"
     },
     "output_type": "display_data"
    }
   ],
   "source": [
    "plt.plot(epochs, acc, 'y', label='Training acc')\n",
    "plt.plot(epochs, val_acc, 'r', label='Validation acc')\n",
    "plt.title('Training and validation accuracy')\n",
    "plt.xlabel('Epochs')\n",
    "plt.ylabel('Accuracy')\n",
    "plt.legend()\n",
    "plt.show()"
   ]
  },
  {
   "cell_type": "code",
   "execution_count": 11,
   "id": "37ea5683",
   "metadata": {},
   "outputs": [
    {
     "name": "stdout",
     "output_type": "stream",
     "text": [
      "186/186 [==============================] - 41s 219ms/step\n"
     ]
    }
   ],
   "source": [
    "from keras.models import load_model\n",
    "#Test the model\n",
    "my_model = load_model('gender_model_50epochs.h5', compile=False)\n",
    "predictions = my_model.predict(x_test_gender)\n",
    "y_pred = (predictions>= 0.5).astype(int)[:,0]"
   ]
  },
  {
   "cell_type": "code",
   "execution_count": 12,
   "id": "aa72358b",
   "metadata": {},
   "outputs": [
    {
     "name": "stdout",
     "output_type": "stream",
     "text": [
      "Accuracy =  0.8739665935549181\n"
     ]
    }
   ],
   "source": [
    "from sklearn import metrics\n",
    "print (\"Accuracy = \", metrics.accuracy_score(y_test_gender, y_pred))"
   ]
  },
  {
   "cell_type": "code",
   "execution_count": 13,
   "id": "1149af36",
   "metadata": {},
   "outputs": [
    {
     "data": {
      "text/plain": [
       "<AxesSubplot:>"
      ]
     },
     "execution_count": 13,
     "metadata": {},
     "output_type": "execute_result"
    },
    {
     "data": {
      "image/png": "[encoded data removed]",
      "text/plain": [
       "<Figure size 432x288 with 2 Axes>"
      ]
     },
     "metadata": {
      "needs_background": "light"
     },
     "output_type": "display_data"
    }
   ],
   "source": [
    "#Confusion Matrix - verify accuracy of each class\n",
    "from sklearn.metrics import confusion_matrix\n",
    "import seaborn as sns\n",
    "cm=confusion_matrix(y_test_gender, y_pred)  \n",
    "sns.heatmap(cm, annot=True)"
   ]
  },
  {
   "cell_type": "code",
   "execution_count": null,
   "id": "abe45860",
   "metadata": {},
   "outputs": [],
   "source": []
  }
 ],
 "metadata": {
  "kernelspec": {
   "display_name": "Python 3 (ipykernel)",
   "language": "python",
   "name": "python3"
  },
  "language_info": {
   "codemirror_mode": {
    "name": "ipython",
    "version": 3
   },
   "file_extension": ".py",
   "mimetype": "text/x-python",
   "name": "python",
   "nbconvert_exporter": "python",
   "pygments_lexer": "ipython3",
   "version": "3.9.12"
  }
 },
 "nbformat": 4,
 "nbformat_minor": 5
}
